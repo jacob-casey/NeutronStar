{
 "cells": [
  {
   "cell_type": "code",
   "execution_count": 21,
   "id": "4a2b4c79-7eb6-4945-a331-04387f3d480e",
   "metadata": {},
   "outputs": [],
   "source": [
    "import pandas as pd\n",
    "import os\n",
    "import sys\n",
    "file = os.path.join(\"/home/jacob/.local/lib/python3.10/site-packages/ixpeobssim/srcmodel/parfiles/SAXJ.par\")\n",
    "\n",
    "from io import BytesIO"
   ]
  },
  {
   "cell_type": "code",
   "execution_count": 23,
   "id": "99c2344d-977f-45a8-a259-7911989960f1",
   "metadata": {},
   "outputs": [
    {
     "ename": "TypeError",
     "evalue": "a bytes-like object is required, not 'str'",
     "output_type": "error",
     "traceback": [
      "\u001b[0;31m---------------------------------------------------------------------------\u001b[0m",
      "\u001b[0;31mTypeError\u001b[0m                                 Traceback (most recent call last)",
      "Cell \u001b[0;32mIn[23], line 1\u001b[0m\n\u001b[0;32m----> 1\u001b[0m \u001b[38;5;28mprint\u001b[39m(\u001b[43mBytesIO\u001b[49m\u001b[43m(\u001b[49m\u001b[43mfile\u001b[49m\u001b[43m)\u001b[49m)\n\u001b[1;32m      2\u001b[0m display(pd\u001b[38;5;241m.\u001b[39mread_parquet(BytesIO(file)))\n",
      "\u001b[0;31mTypeError\u001b[0m: a bytes-like object is required, not 'str'"
     ]
    }
   ],
   "source": [
    "display(pd.read_parquet(BytesIO(file)))"
   ]
  },
  {
   "cell_type": "code",
   "execution_count": 3,
   "id": "dd61190e-2291-4064-afa4-763a6e813bfe",
   "metadata": {},
   "outputs": [
    {
     "ename": "NameError",
     "evalue": "name 'parfile' is not defined",
     "output_type": "error",
     "traceback": [
      "\u001b[0;31m---------------------------------------------------------------------------\u001b[0m",
      "\u001b[0;31mNameError\u001b[0m                                 Traceback (most recent call last)",
      "Cell \u001b[0;32mIn[3], line 2\u001b[0m\n\u001b[1;32m      1\u001b[0m \u001b[38;5;28;01mimport\u001b[39;00m \u001b[38;5;21;01mpyarrow\u001b[39;00m\u001b[38;5;21;01m.\u001b[39;00m\u001b[38;5;21;01mparquet\u001b[39;00m \u001b[38;5;28;01mas\u001b[39;00m \u001b[38;5;21;01mpq\u001b[39;00m\n\u001b[0;32m----> 2\u001b[0m \u001b[43mparfile\u001b[49m(\u001b[38;5;124m'\u001b[39m\u001b[38;5;124m/home/jacob/.local/lib/python3.10/site-packages/ixpeobssim/srcmodel/parfiles/SAXJ.par\u001b[39m\u001b[38;5;124m'\u001b[39m)\n",
      "\u001b[0;31mNameError\u001b[0m: name 'parfile' is not defined"
     ]
    }
   ],
   "source": [
    "import pyarrow.parquet as pq\n",
    "parfile('/home/jacob/.local/lib/python3.10/site-packages/ixpeobssim/srcmodel/parfiles/SAXJ.par')"
   ]
  },
  {
   "cell_type": "code",
   "execution_count": 4,
   "id": "807da28e-3706-466c-aeb0-9ef3c438de68",
   "metadata": {},
   "outputs": [
    {
     "ename": "TypeError",
     "evalue": "'module' object is not callable",
     "output_type": "error",
     "traceback": [
      "\u001b[0;31m---------------------------------------------------------------------------\u001b[0m",
      "\u001b[0;31mTypeError\u001b[0m                                 Traceback (most recent call last)",
      "Cell \u001b[0;32mIn[4], line 2\u001b[0m\n\u001b[1;32m      1\u001b[0m \u001b[38;5;28;01mimport\u001b[39;00m \u001b[38;5;21;01mparams\u001b[39;00m\n\u001b[0;32m----> 2\u001b[0m \u001b[43mparams\u001b[49m\u001b[43m(\u001b[49m\u001b[38;5;124;43m\"\u001b[39;49m\u001b[38;5;124;43m/home/jacob/.local/lib/python3.10/site-packages/ixpeobssim/srcmodel/parfiles/SAXJ.par\u001b[39;49m\u001b[38;5;124;43m\"\u001b[39;49m\u001b[43m)\u001b[49m\n",
      "\u001b[0;31mTypeError\u001b[0m: 'module' object is not callable"
     ]
    }
   ],
   "source": [
    "import params\n",
    "params(\"/home/jacob/.local/lib/python3.10/site-packages/ixpeobssim/srcmodel/parfiles/SAXJ.par\")"
   ]
  },
  {
   "cell_type": "code",
   "execution_count": 11,
   "id": "49acdfa3-6c20-416c-9194-802fde836237",
   "metadata": {},
   "outputs": [
    {
     "name": "stdout",
     "output_type": "stream",
     "text": [
      "<__main__.Params object at 0x7f3bcf99e290>\n"
     ]
    }
   ],
   "source": [
    "label_attr_map = {\n",
    "       \"PSRJ:\": [\"PSRJ\", float, float],\n",
    "        \"k:\": [ \"k\", float],\n",
    "        \"g:\": [ \"g\", float],\n",
    "    \"Delta:\": [ \"D\", float],\n",
    "    \"t_end:\": [ \"T\", float]\n",
    "}\n",
    "\n",
    "class Params(object):\n",
    "    def __init__(self, input_file_name):\n",
    "        with open(input_file_name, 'r') as input_file:\n",
    "            for line in input_file:\n",
    "                row = line.split()\n",
    "                label = row[0]\n",
    "                data = row[1:]  # rest of row is data list\n",
    "                #attr = label_attr_map[label][0]\n",
    "                #datatypes = label_attr_map[label][1:]\n",
    "\n",
    "                #values = [(datatypes[i](data[i])) for i in range(len(data))]\n",
    "                #self.__dict__[attr] = values if len(values) > 1 else values[0]\n",
    "\n",
    "\n",
    "\n",
    "params = Params('/home/jacob/.local/lib/python3.10/site-packages/ixpeobssim/srcmodel/parfiles/SAXJ.par')\n",
    "print(params)"
   ]
  },
  {
   "cell_type": "code",
   "execution_count": null,
   "id": "91cb4dd8-1b8b-437d-8807-db2b47406b80",
   "metadata": {},
   "outputs": [],
   "source": []
  }
 ],
 "metadata": {
  "kernelspec": {
   "display_name": "Python 3 (ipykernel)",
   "language": "python",
   "name": "python3"
  },
  "language_info": {
   "codemirror_mode": {
    "name": "ipython",
    "version": 3
   },
   "file_extension": ".py",
   "mimetype": "text/x-python",
   "name": "python",
   "nbconvert_exporter": "python",
   "pygments_lexer": "ipython3",
   "version": "3.10.12"
  }
 },
 "nbformat": 4,
 "nbformat_minor": 5
}
