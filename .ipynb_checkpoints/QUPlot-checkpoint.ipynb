{
 "cells": [
  {
   "cell_type": "code",
   "execution_count": 1,
   "id": "b041aef9-8b35-4eb3-88fa-faab2c66bf71",
   "metadata": {},
   "outputs": [],
   "source": [
    "import pandas as pd\n",
    "import matplotlib.pyplot as plt\n",
    "import numpy as np"
   ]
  },
  {
   "cell_type": "code",
   "execution_count": 19,
   "id": "e887c06a-9483-482d-9c58-8c527d64fa4f",
   "metadata": {},
   "outputs": [
    {
     "data": {
      "text/html": [
       "<div>\n",
       "<style scoped>\n",
       "    .dataframe tbody tr th:only-of-type {\n",
       "        vertical-align: middle;\n",
       "    }\n",
       "\n",
       "    .dataframe tbody tr th {\n",
       "        vertical-align: top;\n",
       "    }\n",
       "\n",
       "    .dataframe thead th {\n",
       "        text-align: right;\n",
       "    }\n",
       "</style>\n",
       "<table border=\"1\" class=\"dataframe\">\n",
       "  <thead>\n",
       "    <tr style=\"text-align: right;\">\n",
       "      <th></th>\n",
       "      <th>Elow</th>\n",
       "      <th>Emax</th>\n",
       "      <th>PA</th>\n",
       "      <th>PAE</th>\n",
       "      <th>PD</th>\n",
       "      <th>PDE</th>\n",
       "      <th>TotalCounts</th>\n",
       "      <th>Rate</th>\n",
       "      <th>U</th>\n",
       "      <th>Q</th>\n",
       "      <th>UE</th>\n",
       "      <th>QE</th>\n",
       "    </tr>\n",
       "  </thead>\n",
       "  <tbody>\n",
       "    <tr>\n",
       "      <th>0</th>\n",
       "      <td>2</td>\n",
       "      <td>3</td>\n",
       "      <td>19.06</td>\n",
       "      <td>0.06</td>\n",
       "      <td>5.79</td>\n",
       "      <td>0.73</td>\n",
       "      <td>616253</td>\n",
       "      <td>0.136986</td>\n",
       "      <td>0.885869</td>\n",
       "      <td>1.129354</td>\n",
       "      <td>0.72600</td>\n",
       "      <td>0.72600</td>\n",
       "    </tr>\n",
       "    <tr>\n",
       "      <th>1</th>\n",
       "      <td>3</td>\n",
       "      <td>4</td>\n",
       "      <td>-32.83</td>\n",
       "      <td>0.05</td>\n",
       "      <td>4.17</td>\n",
       "      <td>0.41</td>\n",
       "      <td>976739</td>\n",
       "      <td>0.217118</td>\n",
       "      <td>-1.333465</td>\n",
       "      <td>0.603334</td>\n",
       "      <td>0.40137</td>\n",
       "      <td>0.40137</td>\n",
       "    </tr>\n",
       "    <tr>\n",
       "      <th>2</th>\n",
       "      <td>4</td>\n",
       "      <td>5</td>\n",
       "      <td>-47.74</td>\n",
       "      <td>0.03</td>\n",
       "      <td>7.07</td>\n",
       "      <td>0.42</td>\n",
       "      <td>715550</td>\n",
       "      <td>0.159059</td>\n",
       "      <td>-2.825462</td>\n",
       "      <td>-0.271296</td>\n",
       "      <td>0.41450</td>\n",
       "      <td>0.41450</td>\n",
       "    </tr>\n",
       "  </tbody>\n",
       "</table>\n",
       "</div>"
      ],
      "text/plain": [
       "   Elow  Emax     PA   PAE    PD   PDE  TotalCounts      Rate         U  \\\n",
       "0     2     3  19.06  0.06  5.79  0.73       616253  0.136986  0.885869   \n",
       "1     3     4 -32.83  0.05  4.17  0.41       976739  0.217118 -1.333465   \n",
       "2     4     5 -47.74  0.03  7.07  0.42       715550  0.159059 -2.825462   \n",
       "\n",
       "          Q       UE       QE  \n",
       "0  1.129354  0.72600  0.72600  \n",
       "1  0.603334  0.40137  0.40137  \n",
       "2 -0.271296  0.41450  0.41450  "
      ]
     },
     "metadata": {},
     "output_type": "display_data"
    }
   ],
   "source": [
    "Black = pd.read_csv('/mnt/c/Users/jacob/Desktop/NewVelaSIm/BlackCurvePolarization.csv')\n",
    "Red = pd.read_csv('/mnt/c/Users/jacob/Desktop/NewVelaSIm/RedCurvePolarization.csv')\n",
    "#Gold = pd.read_csv('/mnt/c/Users/jacob/Desktop/VelaX1Sim/SimulationResults/NH3E23_PolarizationResults.csv')\n",
    "display(Red)"
   ]
  },
  {
   "cell_type": "code",
   "execution_count": 20,
   "id": "4e1cede9-3c22-4519-b747-c41618813200",
   "metadata": {},
   "outputs": [
    {
     "data": {
      "image/png": "[encoded data removed]",
      "text/plain": [
       "<Figure size 600x700 with 3 Axes>"
      ]
     },
     "metadata": {},
     "output_type": "display_data"
    }
   ],
   "source": [
    "t = np.linspace(2,5,3)\n",
    "fig,ax = plt.subplots(2,1,figsize=(6,7))\n",
    "ax[0].errorbar(Black['Q'],Black['U'],xerr = Black['UE'],yerr = Black['QE'],fmt='o',markersize=0,color='Black',label='NH = 3E22')\n",
    "ax[0].scatter(Black['Q'],Black['U'],c=t,zorder=2,s=10)\n",
    "\n",
    "ax[0].errorbar(Red['Q'],Red['U'],xerr = Red['UE'],yerr = Red['QE'],fmt='o',markersize=0,color='Red',label='NH = 1E23')\n",
    "ax[0].scatter(Red['Q'],Red['U'],c=t,zorder=2,s=10)\n",
    "\n",
    "#ax[0].errorbar(Gold['Q'],Gold['U'],xerr = Gold['UE'],yerr = Gold['QE'],fmt='o',markersize=0,color='Gold',label='NH = 3E23')\n",
    "#ax[0].scatter(Gold['Q'],Gold['U'],c=t,zorder=2,s=10)\n",
    "\n",
    "ax[0].set_ylim(-7.5,7.5)\n",
    "ax[0].set_xlim(-7.5,7.5)\n",
    "ax[0].hlines(0,-100,100,color = 'grey')\n",
    "ax[0].vlines(0,-100,100,color='grey')\n",
    "ax[0].set_ylabel('U [%]')\n",
    "ax[0].set_xlabel('Q [%]')\n",
    "mappable= ax[1].scatter(np.linspace(2,5,3),np.full(len(np.empty_like(np.linspace(2,5,3))),0),c=t)\n",
    "plt.tight_layout(pad=1)\n",
    "children = fig.get_children()[1]\n",
    "#cset = ax[0].contourf(Q,U,t,)\n",
    "fig.colorbar(mappable,ax=ax[0],label='Energy [KeV]')\n",
    "ax[1].set_visible(False)\n",
    "ax[0].set_aspect('equal',adjustable='box')\n",
    "ax[0].legend(loc='upper left')\n",
    "fig1=plt.gcf()\n",
    "fig1.savefig(f'/mnt/c/Users/jacob/Desktop/NewVelaSim/QUPlot_2-5keV.pdf')"
   ]
  },
  {
   "cell_type": "code",
   "execution_count": null,
   "id": "3dd4cb81-89e5-43f0-b259-74278593111c",
   "metadata": {},
   "outputs": [],
   "source": []
  },
  {
   "cell_type": "code",
   "execution_count": null,
   "id": "435cb282-bf5a-4640-8687-fa62cb2aa378",
   "metadata": {},
   "outputs": [],
   "source": []
  }
 ],
 "metadata": {
  "kernelspec": {
   "display_name": "Python 3 (ipykernel)",
   "language": "python",
   "name": "python3"
  },
  "language_info": {
   "codemirror_mode": {
    "name": "ipython",
    "version": 3
   },
   "file_extension": ".py",
   "mimetype": "text/x-python",
   "name": "python",
   "nbconvert_exporter": "python",
   "pygments_lexer": "ipython3",
   "version": "3.10.12"
  }
 },
 "nbformat": 4,
 "nbformat_minor": 5
}
